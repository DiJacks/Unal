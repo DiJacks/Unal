{
 "cells": [
  {
   "cell_type": "code",
   "execution_count": 2,
   "metadata": {},
   "outputs": [
    {
     "data": {
      "text/plain": [
       "{'Asset Growth 10d': <function __main__.Asset_Growth_10d>,\n",
       " 'Asset Growth 1d': <function __main__.Asset_Growth_1d>,\n",
       " 'Asset Growth 2d': <function __main__.Asset_Growth_2d>,\n",
       " 'Asset Growth 3d': <function __main__.Asset_Growth_3d>,\n",
       " 'Asset Growth 4d': <function __main__.Asset_Growth_4d>,\n",
       " 'Asset Growth 5d': <function __main__.Asset_Growth_5d>,\n",
       " 'Asset Growth 6d': <function __main__.Asset_Growth_6d>,\n",
       " 'Asset Growth 7d': <function __main__.Asset_Growth_7d>,\n",
       " 'Asset Growth 8d': <function __main__.Asset_Growth_8d>,\n",
       " 'Asset Growth 9d': <function __main__.Asset_Growth_9d>}"
      ]
     },
     "execution_count": 2,
     "metadata": {},
     "output_type": "execute_result"
    }
   ],
   "source": [
    "n_fwd_days = 5 # number of days to compute returns over\n",
    "\n",
    "percentile = 25 # target percetile of the prediction\n",
    "\n",
    "from quantopian.pipeline.filters import QTradableStocksUS\n",
    "universe = QTradableStocksUS()\n",
    "\n",
    "import pandas as pd\n",
    "start = pd.Timestamp(\"2018-05-26\")\n",
    "end = pd.Timestamp(\"2018-09-26\")\n",
    "\n",
    "\n",
    "from quantopian.pipeline.factors import Returns\n",
    "\n",
    "\n",
    "def make_factors():\n",
    "    def Asset_Growth_1d():\n",
    "        return Returns(window_length=2)\n",
    "    def Asset_Growth_2d():\n",
    "        return Returns(window_length=3)\n",
    "    def Asset_Growth_3d():\n",
    "        return Returns(window_length=4)\n",
    "    def Asset_Growth_4d():\n",
    "        return Returns(window_length=5)\n",
    "    def Asset_Growth_5d():\n",
    "        return Returns(window_length=6)\n",
    "    def Asset_Growth_6d():\n",
    "        return Returns(window_length=7)\n",
    "    def Asset_Growth_7d():\n",
    "        return Returns(window_length=8)\n",
    "    def Asset_Growth_8d():\n",
    "        return Returns(window_length=9)\n",
    "    def Asset_Growth_9d():\n",
    "        return Returns(window_length=10)\n",
    "    def Asset_Growth_10d():\n",
    "        return Returns(window_length=11) \n",
    "    \n",
    "    \n",
    "    all_factors = {\n",
    "        'Asset Growth 1d': Asset_Growth_1d,\n",
    "        'Asset Growth 2d': Asset_Growth_2d,\n",
    "        'Asset Growth 3d': Asset_Growth_3d,\n",
    "        'Asset Growth 4d': Asset_Growth_4d,\n",
    "        'Asset Growth 5d': Asset_Growth_5d,\n",
    "        'Asset Growth 6d': Asset_Growth_6d,\n",
    "        'Asset Growth 7d': Asset_Growth_7d,\n",
    "        'Asset Growth 8d': Asset_Growth_8d,\n",
    "        'Asset Growth 9d': Asset_Growth_9d,\n",
    "        'Asset Growth 10d': Asset_Growth_10d\n",
    "    }     \n",
    "\n",
    "    return all_factors\n",
    "\n",
    "factors = make_factors()\n",
    "\n",
    "factors"
   ]
  },
  {
   "cell_type": "code",
   "execution_count": 3,
   "metadata": {},
   "outputs": [
    {
     "name": "stdout",
     "output_type": "stream",
     "text": [
      "{'Asset Growth 4d': Returns([EquityPricing.close], 5), 'Asset Growth 5d': Returns([EquityPricing.close], 6), 'Asset Growth 7d': Returns([EquityPricing.close], 8), 'Asset Growth 3d': Returns([EquityPricing.close], 4), 'Returns': Returns([EquityPricing<US>.open], 5), 'Asset Growth 8d': Returns([EquityPricing.close], 9), 'Asset Growth 2d': Returns([EquityPricing.close], 3), 'Asset Growth 9d': Returns([EquityPricing.close], 10), 'Asset Growth 10d': Returns([EquityPricing.close], 11), 'Asset Growth 6d': Returns([EquityPricing.close], 7), 'Asset Growth 1d': Returns([EquityPricing.close], 2)}\n"
     ]
    },
    {
     "data": {
      "text/plain": [
       "<zipline.pipeline.pipeline.Pipeline at 0x7f2e6f445f50>"
      ]
     },
     "execution_count": 3,
     "metadata": {},
     "output_type": "execute_result"
    }
   ],
   "source": [
    "from quantopian.pipeline import Pipeline\n",
    "\n",
    "from quantopian.pipeline.data.builtin import USEquityPricing\n",
    "\n",
    "\n",
    "def make_history_pipeline(factors, universe, n_fwd_days=5):\n",
    "    \n",
    "    # Build dictionary of factors names and definitions used to calculate the information of the input variables \n",
    "    factor_ranks = {name: f() for name, f in factors.iteritems()}\n",
    "    \n",
    "    # Add to the dictionary the factor name and definitios used to calculate the information of the target variable\n",
    "    factor_ranks['Returns'] = Returns(inputs=[USEquityPricing.open],window_length=n_fwd_days)\n",
    "    \n",
    "    print factor_ranks\n",
    "    \n",
    "    pipe = Pipeline(screen=universe, columns=factor_ranks)\n",
    "    \n",
    "    return pipe\n",
    "\n",
    "history_pipe = make_history_pipeline(factors, universe, n_fwd_days=n_fwd_days)\n",
    "\n",
    "history_pipe"
   ]
  },
  {
   "cell_type": "code",
   "execution_count": 4,
   "metadata": {},
   "outputs": [
    {
     "name": "stdout",
     "output_type": "stream",
     "text": [
      "Time to run pipeline 65.58 secs\n"
     ]
    }
   ],
   "source": [
    "from quantopian.research import run_pipeline\n",
    "\n",
    "from time import time\n",
    "start_timer = time()\n",
    "results = run_pipeline(history_pipe, start_date=start, end_date=end)\n",
    "results.index.names = ['date', 'security']\n",
    "end_timer = time()\n",
    "print \"Time to run pipeline %.2f secs\" % (end_timer - start_timer)"
   ]
  },
  {
   "cell_type": "code",
   "execution_count": 5,
   "metadata": {},
   "outputs": [],
   "source": [
    "import numpy as np\n",
    "\n",
    "training = 0.75\n",
    "\n",
    "\n",
    "results_wo_returns = results.copy()\n",
    "returns = results_wo_returns.pop('Returns')\n",
    "Y = returns.unstack().values\n",
    "X = results_wo_returns.to_panel() \n",
    "X = X.swapaxes(2, 0).swapaxes(0, 1).values # (factors, time, stocks) -> (time, stocks, factors)\n",
    "\n",
    "\n",
    "n_time, n_stocks, n_factors = X.shape\n",
    "train_size = np.int16(np.round(training * n_time))\n",
    "X_train_aux, Y_train_aux = X[:train_size, ...], Y[:train_size]\n",
    "X_test_aux, Y_test_aux = X[(train_size+n_fwd_days):, ...], Y[(train_size+n_fwd_days):]"
   ]
  },
  {
   "cell_type": "code",
   "execution_count": 6,
   "metadata": {},
   "outputs": [
    {
     "name": "stdout",
     "output_type": "stream",
     "text": [
      "(16, 2293, 10) 36688\n"
     ]
    }
   ],
   "source": [
    "n_time, n_stocks, n_factors = X_test_aux.shape\n",
    "print X_test_aux.shape, n_time* n_stocks"
   ]
  },
  {
   "cell_type": "code",
   "execution_count": 7,
   "metadata": {},
   "outputs": [
    {
     "data": {
      "text/plain": [
       "array([ 0.04198113, -0.012958  ,  0.00090621, -0.00360848,  0.00821543,\n",
       "        0.00135993, -0.00607424,  0.04050871,  0.03031716,  0.02458256])"
      ]
     },
     "execution_count": 7,
     "metadata": {},
     "output_type": "execute_result"
    }
   ],
   "source": [
    "X_test_aux[0][0]"
   ]
  },
  {
   "cell_type": "code",
   "execution_count": 8,
   "metadata": {},
   "outputs": [],
   "source": [
    "def shift_recode_mask_data(X, Y, upper_percentile=100-percentile, lower_percentile=percentile, n_fwd_days=1):\n",
    "    # Shift X to match factors at t to returns at t+n_fwd_days (we want to predict future returns after all)\n",
    "    shifted_X = np.roll(X, n_fwd_days+1, axis=0)\n",
    "    \n",
    "    # Slice off rolled elements\n",
    "    X = shifted_X[n_fwd_days+1:]\n",
    "    Y = Y[n_fwd_days+1:]\n",
    "    \n",
    "    n_time, n_stocks, n_factors = X.shape\n",
    "    \n",
    "    # Look for biggest up and down movers\n",
    "    upper = np.nanpercentile(Y, upper_percentile, axis=1)[:, np.newaxis]\n",
    "    lower = np.nanpercentile(Y, lower_percentile, axis=1)[:, np.newaxis]\n",
    "  \n",
    "    upper_mask = (Y >= upper)\n",
    "    lower_mask = (Y <= lower)\n",
    "    \n",
    "    mask = upper_mask | lower_mask # This also drops nans\n",
    "    mask = mask.flatten()\n",
    "    \n",
    "    # Only try to predict whether a stock moved up/down relative to other stocks\n",
    "    Y_binary = np.zeros(n_time * n_stocks)\n",
    "    Y_binary[upper_mask.flatten()] = 1\n",
    "    Y_binary[lower_mask.flatten()] = -1\n",
    "    \n",
    "    # Flatten X\n",
    "    X = X.reshape((n_time * n_stocks, n_factors))\n",
    "\n",
    "    # Drop stocks that did not move much (i.e. are not in the upper_percentile or the lower_percentile )\n",
    "    X = X[mask]\n",
    "    Y_binary = Y_binary[mask]\n",
    "    \n",
    "    # Drop stocks with nan returns\n",
    "    masknan=  ~np.isnan(X).any(axis=1)\n",
    "    X = X[masknan]\n",
    "    Y_binary = Y_binary[masknan]\n",
    "    \n",
    "    return X, Y_binary"
   ]
  },
  {
   "cell_type": "code",
   "execution_count": 9,
   "metadata": {},
   "outputs": [
    {
     "data": {
      "text/plain": [
       "((63136, 10), (17509, 10))"
      ]
     },
     "execution_count": 9,
     "metadata": {},
     "output_type": "execute_result"
    }
   ],
   "source": [
    "X_train, Y_train = shift_recode_mask_data(X_train_aux, Y_train_aux, n_fwd_days=n_fwd_days)\n",
    "X_test, Y_test = shift_recode_mask_data(X_test_aux, Y_test_aux, n_fwd_days=n_fwd_days, \n",
    "                                             lower_percentile=40, \n",
    "                                             upper_percentile=60)\n",
    "\n",
    "X_train.shape, X_test.shape"
   ]
  },
  {
   "cell_type": "code",
   "execution_count": 10,
   "metadata": {},
   "outputs": [
    {
     "data": {
      "text/plain": [
       "<matplotlib.text.Text at 0x7f2e3dc5e1d0>"
      ]
     },
     "execution_count": 10,
     "metadata": {},
     "output_type": "execute_result"
    },
    {
     "data": {
      "image/png": "[encoded data removed]",
      "text/plain": [
       "<matplotlib.figure.Figure at 0x7f2e76d84bd0>"
      ]
     },
     "metadata": {},
     "output_type": "display_data"
    }
   ],
   "source": [
    "import matplotlib.pyplot as plt\n",
    "\n",
    "X = X_train\n",
    "Y = Y_train\n",
    "color = []\n",
    "color = ['green' if v == 1 else 'red' for v in Y] \n",
    "\n",
    "\n",
    "plt.subplot(3, 3, 1)\n",
    "plt.scatter(X[:, 0], X[:, 1], c=color, alpha= 0.6, s=10, edgecolor='k') \n",
    "plt.xlabel('Asset Growth 10d')\n",
    "plt.ylabel('Asset Growth 1d')\n",
    "\n",
    "plt.subplot(3, 3, 2)\n",
    "plt.scatter(X[:, 0], X[:, 2], c=color, alpha= 0.6, s=10, edgecolor='k')  \n",
    "plt.xlabel('Asset Growth 10d')\n",
    "plt.ylabel('Asset Growth 2d')\n",
    "\n",
    "plt.subplot(3, 3, 3)\n",
    "plt.scatter(X[:, 0], X[:, 3], c=color, alpha= 0.6, s=10, edgecolor='k') \n",
    "plt.xlabel('Asset Growth 10d')\n",
    "plt.ylabel('Asset Growth 3d')\n",
    "\n",
    "plt.subplot(3, 3, 4)\n",
    "plt.scatter(X[:, 0], X[:, 4], c=color, alpha= 0.6, s=10, edgecolor='k') \n",
    "plt.xlabel('Asset Growth 10d')\n",
    "plt.ylabel('Asset Growth 4d')\n",
    "\n",
    "plt.subplot(3, 3, 5)\n",
    "plt.scatter(X[:, 0], X[:, 5], c=color, alpha= 0.6, s=10, edgecolor='k') \n",
    "plt.xlabel('Asset Growth 10d')\n",
    "plt.ylabel('Asset Growth 5d')\n",
    "\n",
    "plt.subplot(3, 3, 6)\n",
    "plt.scatter(X[:, 0], X[:, 6], c=color, alpha= 0.6, s=10, edgecolor='k') \n",
    "plt.xlabel('Asset Growth 10d')\n",
    "plt.ylabel('Asset Growth 6d')\n",
    "\n",
    "plt.subplot(3, 3, 7)\n",
    "plt.scatter(X[:, 0], X[:, 7], c=color, alpha= 0.6, s=10, edgecolor='k')  \n",
    "plt.xlabel('Asset Growth 10d')\n",
    "plt.ylabel('Asset Growth 7d')\n",
    "\n",
    "plt.subplot(3, 3, 8)\n",
    "plt.scatter(X[:, 0], X[:, 8], c=color, alpha= 0.6, s=10, edgecolor='k') \n",
    "plt.xlabel('Asset Growth 10d')\n",
    "plt.ylabel('Asset Growth 8d')\n",
    "\n",
    "plt.subplot(3, 3, 9)\n",
    "plt.scatter(X[:, 0], X[:, 9], c=color, alpha= 0.6, s=10, edgecolor='k') \n",
    "plt.xlabel('Asset Growth 10d')\n",
    "plt.ylabel('Asset Growth 9d')"
   ]
  },
  {
   "cell_type": "code",
   "execution_count": 11,
   "metadata": {},
   "outputs": [
    {
     "data": {
      "image/png": "[encoded data removed]",
      "text/plain": [
       "<matplotlib.figure.Figure at 0x7f2e4f9a0b90>"
      ]
     },
     "metadata": {},
     "output_type": "display_data"
    }
   ],
   "source": [
    "x = X[:,0]\n",
    "\n",
    "mask = (Y == 1)\n",
    "xg = x[mask]\n",
    "\n",
    "mask = (Y == -1)\n",
    "xr = x[mask]\n",
    "\n",
    "xlim = (-2, 2)\n",
    "bins = np.linspace(xlim[0], xlim[1], 200)\n",
    "\n",
    "plt.hist(xr, bins, alpha=0.6,  histtype='stepfilled', label='red',  color='red')\n",
    "plt.hist(xg, bins, alpha=0.6,  histtype='stepfilled', label='green', color='green' )\n",
    "plt.legend(loc='upper right')\n",
    "plt.xlabel('Asset Growth 10d')\n",
    "plt.ylabel('Probability by class ')\n",
    "plt.show()"
   ]
  },
  {
   "cell_type": "code",
   "execution_count": 12,
   "metadata": {},
   "outputs": [
    {
     "data": {
      "text/html": [
       "<div>\n",
       "<table border=\"1\" class=\"dataframe\">\n",
       "  <thead>\n",
       "    <tr style=\"text-align: right;\">\n",
       "      <th></th>\n",
       "      <th>Asset Growth 10d</th>\n",
       "      <th>Asset Growth 1d</th>\n",
       "      <th>Asset Growth 2d</th>\n",
       "      <th>Asset Growth 3d</th>\n",
       "      <th>Asset Growth 4d</th>\n",
       "      <th>Asset Growth 5d</th>\n",
       "      <th>Asset Growth 6d</th>\n",
       "      <th>Asset Growth 7d</th>\n",
       "      <th>Asset Growth 8d</th>\n",
       "      <th>Asset Growth 9d</th>\n",
       "      <th>target</th>\n",
       "    </tr>\n",
       "  </thead>\n",
       "  <tbody>\n",
       "    <tr>\n",
       "      <th>7897</th>\n",
       "      <td>-0.032895</td>\n",
       "      <td>-0.013423</td>\n",
       "      <td>-0.010101</td>\n",
       "      <td>0.006849</td>\n",
       "      <td>-0.010101</td>\n",
       "      <td>-0.031301</td>\n",
       "      <td>-0.020000</td>\n",
       "      <td>-0.010101</td>\n",
       "      <td>-0.039216</td>\n",
       "      <td>-0.045455</td>\n",
       "      <td>1.0</td>\n",
       "    </tr>\n",
       "    <tr>\n",
       "      <th>28124</th>\n",
       "      <td>-0.067298</td>\n",
       "      <td>0.025434</td>\n",
       "      <td>0.023855</td>\n",
       "      <td>0.033800</td>\n",
       "      <td>-0.024918</td>\n",
       "      <td>-0.008569</td>\n",
       "      <td>0.012750</td>\n",
       "      <td>0.005669</td>\n",
       "      <td>-0.037613</td>\n",
       "      <td>-0.042806</td>\n",
       "      <td>-1.0</td>\n",
       "    </tr>\n",
       "    <tr>\n",
       "      <th>30076</th>\n",
       "      <td>-0.032012</td>\n",
       "      <td>0.001044</td>\n",
       "      <td>-0.006512</td>\n",
       "      <td>-0.003858</td>\n",
       "      <td>0.011908</td>\n",
       "      <td>0.010842</td>\n",
       "      <td>0.008412</td>\n",
       "      <td>0.012977</td>\n",
       "      <td>0.010385</td>\n",
       "      <td>0.009322</td>\n",
       "      <td>1.0</td>\n",
       "    </tr>\n",
       "    <tr>\n",
       "      <th>18641</th>\n",
       "      <td>-0.019376</td>\n",
       "      <td>-0.002850</td>\n",
       "      <td>-0.004454</td>\n",
       "      <td>-0.002479</td>\n",
       "      <td>-0.017820</td>\n",
       "      <td>-0.012880</td>\n",
       "      <td>-0.023659</td>\n",
       "      <td>-0.032115</td>\n",
       "      <td>-0.037210</td>\n",
       "      <td>-0.028727</td>\n",
       "      <td>1.0</td>\n",
       "    </tr>\n",
       "    <tr>\n",
       "      <th>30801</th>\n",
       "      <td>0.015467</td>\n",
       "      <td>-0.002619</td>\n",
       "      <td>0.016551</td>\n",
       "      <td>0.025310</td>\n",
       "      <td>0.060134</td>\n",
       "      <td>0.062500</td>\n",
       "      <td>0.060134</td>\n",
       "      <td>0.039301</td>\n",
       "      <td>0.025310</td>\n",
       "      <td>0.012766</td>\n",
       "      <td>-1.0</td>\n",
       "    </tr>\n",
       "    <tr>\n",
       "      <th>36732</th>\n",
       "      <td>-0.002327</td>\n",
       "      <td>-0.003717</td>\n",
       "      <td>0.007046</td>\n",
       "      <td>-0.005566</td>\n",
       "      <td>-0.005104</td>\n",
       "      <td>-0.017865</td>\n",
       "      <td>-0.009700</td>\n",
       "      <td>-0.003717</td>\n",
       "      <td>-0.001862</td>\n",
       "      <td>-0.007407</td>\n",
       "      <td>1.0</td>\n",
       "    </tr>\n",
       "    <tr>\n",
       "      <th>60515</th>\n",
       "      <td>-0.088278</td>\n",
       "      <td>0.019165</td>\n",
       "      <td>-0.003191</td>\n",
       "      <td>-0.034261</td>\n",
       "      <td>-0.049683</td>\n",
       "      <td>-0.102681</td>\n",
       "      <td>-0.102251</td>\n",
       "      <td>-0.092691</td>\n",
       "      <td>-0.095100</td>\n",
       "      <td>-0.083822</td>\n",
       "      <td>-1.0</td>\n",
       "    </tr>\n",
       "    <tr>\n",
       "      <th>22160</th>\n",
       "      <td>-0.138928</td>\n",
       "      <td>-0.086078</td>\n",
       "      <td>-0.156768</td>\n",
       "      <td>-0.215296</td>\n",
       "      <td>-0.212258</td>\n",
       "      <td>-0.227704</td>\n",
       "      <td>-0.215296</td>\n",
       "      <td>-0.226236</td>\n",
       "      <td>-0.200916</td>\n",
       "      <td>-0.205078</td>\n",
       "      <td>1.0</td>\n",
       "    </tr>\n",
       "    <tr>\n",
       "      <th>6499</th>\n",
       "      <td>0.017903</td>\n",
       "      <td>0.010239</td>\n",
       "      <td>0.011390</td>\n",
       "      <td>0.014857</td>\n",
       "      <td>0.003390</td>\n",
       "      <td>0.024931</td>\n",
       "      <td>0.023753</td>\n",
       "      <td>0.015581</td>\n",
       "      <td>0.015581</td>\n",
       "      <td>0.019651</td>\n",
       "      <td>-1.0</td>\n",
       "    </tr>\n",
       "    <tr>\n",
       "      <th>1439</th>\n",
       "      <td>0.034545</td>\n",
       "      <td>0.003140</td>\n",
       "      <td>0.007005</td>\n",
       "      <td>0.018420</td>\n",
       "      <td>0.022768</td>\n",
       "      <td>0.028255</td>\n",
       "      <td>0.036783</td>\n",
       "      <td>0.043936</td>\n",
       "      <td>0.043557</td>\n",
       "      <td>0.043747</td>\n",
       "      <td>-1.0</td>\n",
       "    </tr>\n",
       "    <tr>\n",
       "      <th>43574</th>\n",
       "      <td>-0.030688</td>\n",
       "      <td>-0.004502</td>\n",
       "      <td>-0.006184</td>\n",
       "      <td>-0.024717</td>\n",
       "      <td>-0.022561</td>\n",
       "      <td>-0.024197</td>\n",
       "      <td>-0.026863</td>\n",
       "      <td>-0.033027</td>\n",
       "      <td>-0.029073</td>\n",
       "      <td>-0.028338</td>\n",
       "      <td>-1.0</td>\n",
       "    </tr>\n",
       "    <tr>\n",
       "      <th>3764</th>\n",
       "      <td>0.063193</td>\n",
       "      <td>-0.008194</td>\n",
       "      <td>0.021019</td>\n",
       "      <td>0.057880</td>\n",
       "      <td>0.051749</td>\n",
       "      <td>0.054587</td>\n",
       "      <td>0.061416</td>\n",
       "      <td>0.040762</td>\n",
       "      <td>0.046766</td>\n",
       "      <td>0.053516</td>\n",
       "      <td>-1.0</td>\n",
       "    </tr>\n",
       "    <tr>\n",
       "      <th>51086</th>\n",
       "      <td>-0.123046</td>\n",
       "      <td>-0.038994</td>\n",
       "      <td>-0.037240</td>\n",
       "      <td>-0.040742</td>\n",
       "      <td>-0.048014</td>\n",
       "      <td>-0.052121</td>\n",
       "      <td>-0.077004</td>\n",
       "      <td>-0.100614</td>\n",
       "      <td>-0.120414</td>\n",
       "      <td>-0.122170</td>\n",
       "      <td>-1.0</td>\n",
       "    </tr>\n",
       "    <tr>\n",
       "      <th>25282</th>\n",
       "      <td>-0.024246</td>\n",
       "      <td>0.004776</td>\n",
       "      <td>-0.011534</td>\n",
       "      <td>0.011364</td>\n",
       "      <td>0.002165</td>\n",
       "      <td>-0.001295</td>\n",
       "      <td>-0.023629</td>\n",
       "      <td>-0.021978</td>\n",
       "      <td>-0.028139</td>\n",
       "      <td>-0.022391</td>\n",
       "      <td>-1.0</td>\n",
       "    </tr>\n",
       "    <tr>\n",
       "      <th>60076</th>\n",
       "      <td>-0.014588</td>\n",
       "      <td>0.036634</td>\n",
       "      <td>0.035608</td>\n",
       "      <td>0.021463</td>\n",
       "      <td>0.040238</td>\n",
       "      <td>0.035608</td>\n",
       "      <td>-0.012264</td>\n",
       "      <td>-0.012264</td>\n",
       "      <td>-0.012264</td>\n",
       "      <td>-0.031452</td>\n",
       "      <td>1.0</td>\n",
       "    </tr>\n",
       "    <tr>\n",
       "      <th>44771</th>\n",
       "      <td>0.011309</td>\n",
       "      <td>0.006161</td>\n",
       "      <td>0.001066</td>\n",
       "      <td>0.001600</td>\n",
       "      <td>0.010764</td>\n",
       "      <td>0.012945</td>\n",
       "      <td>0.023433</td>\n",
       "      <td>0.033003</td>\n",
       "      <td>0.025109</td>\n",
       "      <td>0.020098</td>\n",
       "      <td>-1.0</td>\n",
       "    </tr>\n",
       "    <tr>\n",
       "      <th>520</th>\n",
       "      <td>0.076416</td>\n",
       "      <td>0.005754</td>\n",
       "      <td>0.019117</td>\n",
       "      <td>0.059343</td>\n",
       "      <td>0.058737</td>\n",
       "      <td>0.083688</td>\n",
       "      <td>0.080223</td>\n",
       "      <td>0.070023</td>\n",
       "      <td>0.077208</td>\n",
       "      <td>0.069372</td>\n",
       "      <td>1.0</td>\n",
       "    </tr>\n",
       "    <tr>\n",
       "      <th>9493</th>\n",
       "      <td>0.075342</td>\n",
       "      <td>0.014540</td>\n",
       "      <td>0.024470</td>\n",
       "      <td>0.032895</td>\n",
       "      <td>0.039735</td>\n",
       "      <td>0.038017</td>\n",
       "      <td>0.044925</td>\n",
       "      <td>0.060811</td>\n",
       "      <td>0.069847</td>\n",
       "      <td>0.086505</td>\n",
       "      <td>1.0</td>\n",
       "    </tr>\n",
       "    <tr>\n",
       "      <th>15263</th>\n",
       "      <td>0.054408</td>\n",
       "      <td>0.005443</td>\n",
       "      <td>0.012376</td>\n",
       "      <td>0.015504</td>\n",
       "      <td>0.022362</td>\n",
       "      <td>0.024456</td>\n",
       "      <td>0.025187</td>\n",
       "      <td>0.012911</td>\n",
       "      <td>0.023909</td>\n",
       "      <td>0.046828</td>\n",
       "      <td>1.0</td>\n",
       "    </tr>\n",
       "    <tr>\n",
       "      <th>29546</th>\n",
       "      <td>-0.024068</td>\n",
       "      <td>0.023873</td>\n",
       "      <td>0.011429</td>\n",
       "      <td>0.011337</td>\n",
       "      <td>0.022090</td>\n",
       "      <td>0.025097</td>\n",
       "      <td>-0.000090</td>\n",
       "      <td>0.012071</td>\n",
       "      <td>-0.007653</td>\n",
       "      <td>-0.005441</td>\n",
       "      <td>1.0</td>\n",
       "    </tr>\n",
       "  </tbody>\n",
       "</table>\n",
       "</div>"
      ],
      "text/plain": [
       "       Asset Growth 10d  Asset Growth 1d  Asset Growth 2d  Asset Growth 3d  \\\n",
       "7897          -0.032895        -0.013423        -0.010101         0.006849   \n",
       "28124         -0.067298         0.025434         0.023855         0.033800   \n",
       "30076         -0.032012         0.001044        -0.006512        -0.003858   \n",
       "18641         -0.019376        -0.002850        -0.004454        -0.002479   \n",
       "30801          0.015467        -0.002619         0.016551         0.025310   \n",
       "36732         -0.002327        -0.003717         0.007046        -0.005566   \n",
       "60515         -0.088278         0.019165        -0.003191        -0.034261   \n",
       "22160         -0.138928        -0.086078        -0.156768        -0.215296   \n",
       "6499           0.017903         0.010239         0.011390         0.014857   \n",
       "1439           0.034545         0.003140         0.007005         0.018420   \n",
       "43574         -0.030688        -0.004502        -0.006184        -0.024717   \n",
       "3764           0.063193        -0.008194         0.021019         0.057880   \n",
       "51086         -0.123046        -0.038994        -0.037240        -0.040742   \n",
       "25282         -0.024246         0.004776        -0.011534         0.011364   \n",
       "60076         -0.014588         0.036634         0.035608         0.021463   \n",
       "44771          0.011309         0.006161         0.001066         0.001600   \n",
       "520            0.076416         0.005754         0.019117         0.059343   \n",
       "9493           0.075342         0.014540         0.024470         0.032895   \n",
       "15263          0.054408         0.005443         0.012376         0.015504   \n",
       "29546         -0.024068         0.023873         0.011429         0.011337   \n",
       "\n",
       "       Asset Growth 4d  Asset Growth 5d  Asset Growth 6d  Asset Growth 7d  \\\n",
       "7897         -0.010101        -0.031301        -0.020000        -0.010101   \n",
       "28124        -0.024918        -0.008569         0.012750         0.005669   \n",
       "30076         0.011908         0.010842         0.008412         0.012977   \n",
       "18641        -0.017820        -0.012880        -0.023659        -0.032115   \n",
       "30801         0.060134         0.062500         0.060134         0.039301   \n",
       "36732        -0.005104        -0.017865        -0.009700        -0.003717   \n",
       "60515        -0.049683        -0.102681        -0.102251        -0.092691   \n",
       "22160        -0.212258        -0.227704        -0.215296        -0.226236   \n",
       "6499          0.003390         0.024931         0.023753         0.015581   \n",
       "1439          0.022768         0.028255         0.036783         0.043936   \n",
       "43574        -0.022561        -0.024197        -0.026863        -0.033027   \n",
       "3764          0.051749         0.054587         0.061416         0.040762   \n",
       "51086        -0.048014        -0.052121        -0.077004        -0.100614   \n",
       "25282         0.002165        -0.001295        -0.023629        -0.021978   \n",
       "60076         0.040238         0.035608        -0.012264        -0.012264   \n",
       "44771         0.010764         0.012945         0.023433         0.033003   \n",
       "520           0.058737         0.083688         0.080223         0.070023   \n",
       "9493          0.039735         0.038017         0.044925         0.060811   \n",
       "15263         0.022362         0.024456         0.025187         0.012911   \n",
       "29546         0.022090         0.025097        -0.000090         0.012071   \n",
       "\n",
       "       Asset Growth 8d  Asset Growth 9d  target  \n",
       "7897         -0.039216        -0.045455     1.0  \n",
       "28124        -0.037613        -0.042806    -1.0  \n",
       "30076         0.010385         0.009322     1.0  \n",
       "18641        -0.037210        -0.028727     1.0  \n",
       "30801         0.025310         0.012766    -1.0  \n",
       "36732        -0.001862        -0.007407     1.0  \n",
       "60515        -0.095100        -0.083822    -1.0  \n",
       "22160        -0.200916        -0.205078     1.0  \n",
       "6499          0.015581         0.019651    -1.0  \n",
       "1439          0.043557         0.043747    -1.0  \n",
       "43574        -0.029073        -0.028338    -1.0  \n",
       "3764          0.046766         0.053516    -1.0  \n",
       "51086        -0.120414        -0.122170    -1.0  \n",
       "25282        -0.028139        -0.022391    -1.0  \n",
       "60076        -0.012264        -0.031452     1.0  \n",
       "44771         0.025109         0.020098    -1.0  \n",
       "520           0.077208         0.069372     1.0  \n",
       "9493          0.069847         0.086505     1.0  \n",
       "15263         0.023909         0.046828     1.0  \n",
       "29546        -0.007653        -0.005441     1.0  "
      ]
     },
     "execution_count": 12,
     "metadata": {},
     "output_type": "execute_result"
    }
   ],
   "source": [
    "import pandas as pd\n",
    "labels = ['Asset Growth 10d',\n",
    "          'Asset Growth 1d',\n",
    "          'Asset Growth 2d',\n",
    "          'Asset Growth 3d',\n",
    "          'Asset Growth 4d',\n",
    "          'Asset Growth 5d',\n",
    "          'Asset Growth 6d',\n",
    "          'Asset Growth 7d',\n",
    "          'Asset Growth 8d',\n",
    "          'Asset Growth 9d']      \n",
    "df = pd.DataFrame(X_train, columns=labels)\n",
    "df['target'] = Y_train\n",
    "df.sample(20)"
   ]
  },
  {
   "cell_type": "markdown",
   "metadata": {},
   "source": [
    "import seaborn as sns\n",
    "sns.set()\n",
    "palette = ['#FF0000','#00FF00']\n",
    "sns.set_palette(palette)\n",
    "sns.pairplot(df, vars=labels,  hue='target', diag_kind = 'kde', plot_kws = {'alpha': 0.6, 's': 10, 'edgecolor': 'k'});"
   ]
  },
  {
   "cell_type": "code",
   "execution_count": 23,
   "metadata": {},
   "outputs": [
    {
     "ename": "SandboxViolation",
     "evalue": "Importing MLPClassifier from sklearn.neural_network raised an ImportError. No modules or attributes with a similar name were found.",
     "output_type": "error",
     "traceback": [
      "InputRejected:",
      "Importing MLPClassifier from sklearn.neural_network raised an ImportError. No modules or attributes with a similar name were found."
     ]
    }
   ],
   "source": [
    "start_timer = time()\n",
    "\n",
    "# Train classifier\n",
    "from sklearn.naive_bayes import GaussianNB\n",
    "clf = GaussianNB()\n",
    "clf.fit(X_train[:10000], Y_train[:10000]);\n",
    "\n",
    "from sklearn.svm import SVC # \"Support vector classifier\"\n",
    "model = SVC(kernel='rbf')\n",
    "model.fit(X_train[:10000], Y_train[:10000])\n",
    "\n",
    "\n",
    "model2 = SVC(kernel='linear')\n",
    "model2.fit(X_train[:10000], Y_train[:10000])\n",
    "\n",
    "end_timer = time()\n",
    "print \"Time to train : %0.2f secs\" % (end_timer - start_timer)"
   ]
  },
  {
   "cell_type": "code",
   "execution_count": 14,
   "metadata": {},
   "outputs": [
    {
     "name": "stdout",
     "output_type": "stream",
     "text": [
      "Accuracy on train set = 50.86%\n",
      "Accuracy on train set = 50.15%\n",
      "Accuracy on train set = 50.05%\n"
     ]
    }
   ],
   "source": [
    "from sklearn import metrics\n",
    "\n",
    "Y_pred = clf.predict(X_train)\n",
    "Y_pred2 = model.predict(X_train)\n",
    "Y_pred3 = model2.predict(X_train)\n",
    "print('Accuracy on train set = {:.2f}%'.format(metrics.accuracy_score(Y_train, Y_pred) * 100))\n",
    "print('Accuracy on train set = {:.2f}%'.format(metrics.accuracy_score(Y_train, Y_pred2) * 100))\n",
    "print('Accuracy on train set = {:.2f}%'.format(metrics.accuracy_score(Y_train, Y_pred3) * 100))"
   ]
  },
  {
   "cell_type": "code",
   "execution_count": 15,
   "metadata": {},
   "outputs": [],
   "source": [
    "# Predict!\n",
    "Y_pred = clf.predict(X_test)\n",
    "Y_pred2 = model.predict(X_test)\n",
    "Y_pred3 = model2.predict(X_test)\n",
    "\n",
    "Y_pred_prob = clf.predict_proba(X_test)\n",
    "#Y_pred_prob2 = model.predict_proba(X_test)\n",
    "#Y_pred_prob3 = model2.predict_proba(X_test)"
   ]
  },
  {
   "cell_type": "code",
   "execution_count": 16,
   "metadata": {},
   "outputs": [
    {
     "name": "stdout",
     "output_type": "stream",
     "text": [
      "Predictions: [-1. -1. -1. ...,  1. -1.  1.]\n",
      "Probabilities of class == 1: [ 31.56105695  28.70476128  34.36817661 ...,  56.40472609  34.46647853\n",
      "  82.66317779]\n",
      "Predictions2: [-1. -1. -1. ..., -1. -1. -1.]\n",
      "Predictions3: [-1. -1. -1. ..., -1. -1. -1.]\n",
      "3066\n"
     ]
    }
   ],
   "source": [
    "print 'Predictions:', Y_pred\n",
    "print 'Probabilities of class == 1:', Y_pred_prob[:, 1] * 100\n",
    "print 'Predictions2:', Y_pred2\n",
    "print 'Predictions3:', Y_pred3\n",
    "a = 0\n",
    "for i in range (0,len(Y_pred)):\n",
    "    if Y_pred[i] != Y_pred2[i]:\n",
    "        a = a+1\n",
    "        \n",
    "print a"
   ]
  },
  {
   "cell_type": "code",
   "execution_count": 17,
   "metadata": {},
   "outputs": [
    {
     "name": "stdout",
     "output_type": "stream",
     "text": [
      "Accuracy on test set = 51.48%\n",
      "Log-loss = 0.81167\n"
     ]
    }
   ],
   "source": [
    "print('Accuracy on test set = {:.2f}%'.format(metrics.accuracy_score(Y_test, Y_pred) * 100))\n",
    "print('Log-loss = {:.5f}'.format(metrics.log_loss(Y_test, Y_pred_prob)))"
   ]
  },
  {
   "cell_type": "code",
   "execution_count": 18,
   "metadata": {},
   "outputs": [],
   "source": [
    "from sklearn.neighbors import KNeighborsClassifier  \n",
    "classifier = KNeighborsClassifier(n_neighbors=5)  \n",
    "classifier.fit(X_train, Y_train)\n",
    "y_pred = classifier.predict(X_test)  "
   ]
  },
  {
   "cell_type": "code",
   "execution_count": 19,
   "metadata": {},
   "outputs": [
    {
     "name": "stdout",
     "output_type": "stream",
     "text": [
      "Accuracy on test set = 49.65%\n"
     ]
    }
   ],
   "source": [
    "print('Accuracy on test set = {:.2f}%'.format(metrics.accuracy_score(Y_test, y_pred) * 100))"
   ]
  },
  {
   "cell_type": "code",
   "execution_count": 20,
   "metadata": {},
   "outputs": [
    {
     "name": "stdout",
     "output_type": "stream",
     "text": [
      "[[4570 4181]\n",
      " [4634 4124]]\n",
      "             precision    recall  f1-score   support\n",
      "\n",
      "       -1.0       0.50      0.52      0.51      8751\n",
      "        1.0       0.50      0.47      0.48      8758\n",
      "\n",
      "avg / total       0.50      0.50      0.50     17509\n",
      "\n"
     ]
    }
   ],
   "source": [
    "from sklearn.metrics import classification_report, confusion_matrix  \n",
    "print(confusion_matrix(Y_test, y_pred))  \n",
    "print(classification_report(Y_test, y_pred))"
   ]
  },
  {
   "cell_type": "code",
   "execution_count": 43,
   "metadata": {},
   "outputs": [
    {
     "data": {
      "text/plain": [
       "63136"
      ]
     },
     "execution_count": 43,
     "metadata": {},
     "output_type": "execute_result"
    }
   ],
   "source": [
    "len(Y_train)"
   ]
  },
  {
   "cell_type": "code",
   "execution_count": 46,
   "metadata": {},
   "outputs": [
    {
     "data": {
      "text/plain": [
       "(63136,)"
      ]
     },
     "execution_count": 46,
     "metadata": {},
     "output_type": "execute_result"
    }
   ],
   "source": [
    "Y_train.shape"
   ]
  },
  {
   "cell_type": "code",
   "execution_count": 66,
   "metadata": {},
   "outputs": [
    {
     "name": "stdout",
     "output_type": "stream",
     "text": [
      "Beginning Randomly Generated Weights: \n",
      "[[-0.16595599]\n",
      " [ 0.44064899]\n",
      " [-0.99977125]\n",
      " ..., \n",
      " [-0.96536677]\n",
      " [ 0.55177307]\n",
      " [-0.80802546]]\n"
     ]
    },
    {
     "ename": "ValueError",
     "evalue": "shapes (63136,10) and (63136,1) not aligned: 10 (dim 1) != 63136 (dim 0)",
     "output_type": "error",
     "traceback": [
      "\u001b[0;31m\u001b[0m",
      "\u001b[0;31mValueError\u001b[0mTraceback (most recent call last)",
      "\u001b[0;32m<ipython-input-66-bd5b22ce3cbd>\u001b[0m in \u001b[0;36m<module>\u001b[0;34m()\u001b[0m\n\u001b[1;32m     56\u001b[0m \u001b[0;34m\u001b[0m\u001b[0m\n\u001b[1;32m     57\u001b[0m     \u001b[0;31m#training taking place\u001b[0m\u001b[0;34m\u001b[0m\u001b[0;34m\u001b[0m\u001b[0m\n\u001b[0;32m---> 58\u001b[0;31m     \u001b[0mneural_network\u001b[0m\u001b[0;34m.\u001b[0m\u001b[0mtrain\u001b[0m\u001b[0;34m(\u001b[0m\u001b[0mtraining_inputs\u001b[0m\u001b[0;34m,\u001b[0m \u001b[0mtraining_outputs\u001b[0m\u001b[0;34m,\u001b[0m \u001b[0;36m15000\u001b[0m\u001b[0;34m)\u001b[0m\u001b[0;34m\u001b[0m\u001b[0m\n\u001b[0m\u001b[1;32m     59\u001b[0m \u001b[0;34m\u001b[0m\u001b[0m\n\u001b[1;32m     60\u001b[0m     \u001b[0;31m#print(\"Ending Weights After Training: \")\u001b[0m\u001b[0;34m\u001b[0m\u001b[0;34m\u001b[0m\u001b[0m\n",
      "\u001b[0;32m<ipython-input-66-bd5b22ce3cbd>\u001b[0m in \u001b[0;36mtrain\u001b[0;34m(self, training_inputs, training_outputs, training_iterations)\u001b[0m\n\u001b[1;32m     23\u001b[0m         \u001b[0;32mfor\u001b[0m \u001b[0miteration\u001b[0m \u001b[0;32min\u001b[0m \u001b[0mrange\u001b[0m\u001b[0;34m(\u001b[0m\u001b[0mtraining_iterations\u001b[0m\u001b[0;34m)\u001b[0m\u001b[0;34m:\u001b[0m\u001b[0;34m\u001b[0m\u001b[0m\n\u001b[1;32m     24\u001b[0m             \u001b[0;31m#siphon the training data via  the neuron\u001b[0m\u001b[0;34m\u001b[0m\u001b[0;34m\u001b[0m\u001b[0m\n\u001b[0;32m---> 25\u001b[0;31m             \u001b[0moutput\u001b[0m \u001b[0;34m=\u001b[0m \u001b[0mself\u001b[0m\u001b[0;34m.\u001b[0m\u001b[0mthink\u001b[0m\u001b[0;34m(\u001b[0m\u001b[0mtraining_inputs\u001b[0m\u001b[0;34m)\u001b[0m\u001b[0;34m\u001b[0m\u001b[0m\n\u001b[0m\u001b[1;32m     26\u001b[0m \u001b[0;34m\u001b[0m\u001b[0m\n\u001b[1;32m     27\u001b[0m             \u001b[0;31m#computing error rate for back-propagation\u001b[0m\u001b[0;34m\u001b[0m\u001b[0;34m\u001b[0m\u001b[0m\n",
      "\u001b[0;32m<ipython-input-66-bd5b22ce3cbd>\u001b[0m in \u001b[0;36mthink\u001b[0;34m(self, vals)\u001b[0m\n\u001b[1;32m     38\u001b[0m \u001b[0;34m\u001b[0m\u001b[0m\n\u001b[1;32m     39\u001b[0m         \u001b[0mvals\u001b[0m \u001b[0;34m=\u001b[0m \u001b[0mvals\u001b[0m\u001b[0;34m.\u001b[0m\u001b[0mastype\u001b[0m\u001b[0;34m(\u001b[0m\u001b[0mfloat\u001b[0m\u001b[0;34m)\u001b[0m\u001b[0;34m\u001b[0m\u001b[0m\n\u001b[0;32m---> 40\u001b[0;31m         \u001b[0moutput\u001b[0m \u001b[0;34m=\u001b[0m \u001b[0mself\u001b[0m\u001b[0;34m.\u001b[0m\u001b[0msigmoid\u001b[0m\u001b[0;34m(\u001b[0m\u001b[0mnp\u001b[0m\u001b[0;34m.\u001b[0m\u001b[0mdot\u001b[0m\u001b[0;34m(\u001b[0m\u001b[0mvals\u001b[0m\u001b[0;34m,\u001b[0m \u001b[0mself\u001b[0m\u001b[0;34m.\u001b[0m\u001b[0msynaptic_weights\u001b[0m\u001b[0;34m)\u001b[0m\u001b[0;34m)\u001b[0m\u001b[0;34m\u001b[0m\u001b[0m\n\u001b[0m\u001b[1;32m     41\u001b[0m         \u001b[0;32mreturn\u001b[0m \u001b[0moutput\u001b[0m\u001b[0;34m\u001b[0m\u001b[0m\n\u001b[1;32m     42\u001b[0m \u001b[0;34m\u001b[0m\u001b[0m\n",
      "\u001b[0;31mValueError\u001b[0m: shapes (63136,10) and (63136,1) not aligned: 10 (dim 1) != 63136 (dim 0)"
     ]
    }
   ],
   "source": [
    "import numpy as np\n",
    "\n",
    "class NeuralNetwork():\n",
    "    \n",
    "    def __init__(self):\n",
    "        # seeding for random number generation\n",
    "        np.random.seed(1)\n",
    "        \n",
    "        #converting weights to a 3 by 1 matrix with values from -1 to 1 and mean of 0\n",
    "        self.synaptic_weights = 2 * np.random.random((63136, 1)) - 1\n",
    "\n",
    "    def sigmoid(self, x):\n",
    "        #applying the sigmoid function\n",
    "        return 1 / (1 + np.exp(-x))\n",
    "\n",
    "    def sigmoid_derivative(self, x):\n",
    "        #computing derivative to the Sigmoid function\n",
    "        return x * (1 - x)\n",
    "\n",
    "    def train(self, training_inputs, training_outputs, training_iterations):\n",
    "        \n",
    "        #training the model to make accurate predictions while adjusting weights continually\n",
    "        for iteration in range(training_iterations):\n",
    "            #siphon the training data via  the neuron\n",
    "            output = self.think(training_inputs)\n",
    "\n",
    "            #computing error rate for back-propagation\n",
    "            error = training_outputs - output\n",
    "            \n",
    "            #performing weight adjustments\n",
    "            adjustments = np.dot(training_inputs.T, error * self.sigmoid_derivative(output))\n",
    "\n",
    "            self.synaptic_weights += adjustments\n",
    "\n",
    "    def think(self, vals):\n",
    "        #passing the inputs via the neuron to get output   \n",
    "        #converting values to floats\n",
    "        \n",
    "        vals = vals.astype(float)\n",
    "        output = self.sigmoid(np.dot(vals, self.synaptic_weights))\n",
    "        return output\n",
    "\n",
    "\n",
    "if __name__ == \"__main__\":\n",
    "\n",
    "    #initializing the neuron class\n",
    "    neural_network = NeuralNetwork()\n",
    "\n",
    "    print(\"Beginning Randomly Generated Weights: \")\n",
    "    print(neural_network.synaptic_weights)\n",
    "\n",
    "    #training data consisting of 4 examples--3 input values and 1 output\n",
    "    training_inputs = np.array(X_train)\n",
    "\n",
    "    training_outputs = np.array(Y_train).T\n",
    "\n",
    "    #training taking place\n",
    "    neural_network.train(training_inputs, training_outputs, 15000)\n",
    "\n",
    "    #print(\"Ending Weights After Training: \")\n",
    "    #print(neural_network.synaptic_weights)\n",
    "\n",
    "    #user_input_one = str(input(\"User Input One: \"))\n",
    "    #user_input_two = str(input(\"User Input Two: \"))\n",
    "    #user_input_three = str(input(\"User Input Three: \"))\n",
    "    \n",
    "    #print(\"Considering New Situation: \", user_input_one, user_input_two, user_input_three)\n",
    "    #print(\"New Output data: \")\n",
    "    #print(neural_network.think(X_test))\n",
    "    #print(\"Wow, we did it!\")"
   ]
  },
  {
   "cell_type": "code",
   "execution_count": 59,
   "metadata": {},
   "outputs": [],
   "source": [
    "Y_train = [Y_train]"
   ]
  },
  {
   "cell_type": "code",
   "execution_count": 68,
   "metadata": {},
   "outputs": [
    {
     "data": {
      "text/plain": [
       "(17509,)"
      ]
     },
     "execution_count": 68,
     "metadata": {},
     "output_type": "execute_result"
    }
   ],
   "source": [
    "Y_test.shape"
   ]
  },
  {
   "cell_type": "code",
   "execution_count": 69,
   "metadata": {},
   "outputs": [
    {
     "ename": "SandboxViolation",
     "evalue": "Importing MLPClassifier from sklearn.neural_network raised an ImportError. No modules or attributes with a similar name were found.",
     "output_type": "error",
     "traceback": [
      "InputRejected:",
      "Importing MLPClassifier from sklearn.neural_network raised an ImportError. No modules or attributes with a similar name were found."
     ]
    }
   ],
   "source": [
    "from sklearn.neural_network import MLPClassifier"
   ]
  }
 ],
 "metadata": {
  "kernelspec": {
   "display_name": "Python 2",
   "language": "python",
   "name": "python2"
  },
  "language_info": {
   "codemirror_mode": {
    "name": "ipython",
    "version": 2
   },
   "file_extension": ".py",
   "mimetype": "text/x-python",
   "name": "python",
   "nbconvert_exporter": "python",
   "pygments_lexer": "ipython2",
   "version": "2.7.12"
  }
 },
 "nbformat": 4,
 "nbformat_minor": 2
}